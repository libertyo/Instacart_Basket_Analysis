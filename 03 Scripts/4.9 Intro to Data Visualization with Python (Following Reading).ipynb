{
 "cells": [
  {
   "cell_type": "code",
   "execution_count": 1,
   "id": "4e8c6c4d",
   "metadata": {},
   "outputs": [],
   "source": [
    "#Import libraries \n",
    "import numpy as np\n",
    "import pandas as pd \n",
    "import os \n",
    "import matplotlib.pyplot as plt\n",
    "import seaborn as sns\n",
    "import scipy"
   ]
  },
  {
   "cell_type": "code",
   "execution_count": 2,
   "id": "7c68c1b7",
   "metadata": {},
   "outputs": [],
   "source": [
    "#Path to Instacart Basket Analysis \n",
    "path = r'/Users/libertyonia/Documents/Instacart Basket Analysis'"
   ]
  },
  {
   "cell_type": "code",
   "execution_count": 3,
   "id": "4bd5f256",
   "metadata": {},
   "outputs": [],
   "source": [
    "#import ords_prods_merge_4.8.pkl file from last exercise \n",
    "ords_prods_merge = pd.read_pickle(os.path.join(path,'02 Data','Prepared Data','ords_prods_merge_4.8.pkl'))"
   ]
  },
  {
   "cell_type": "code",
   "execution_count": 4,
   "id": "f5f0b991",
   "metadata": {},
   "outputs": [
    {
     "data": {
      "text/html": [
       "<div>\n",
       "<style scoped>\n",
       "    .dataframe tbody tr th:only-of-type {\n",
       "        vertical-align: middle;\n",
       "    }\n",
       "\n",
       "    .dataframe tbody tr th {\n",
       "        vertical-align: top;\n",
       "    }\n",
       "\n",
       "    .dataframe thead th {\n",
       "        text-align: right;\n",
       "    }\n",
       "</style>\n",
       "<table border=\"1\" class=\"dataframe\">\n",
       "  <thead>\n",
       "    <tr style=\"text-align: right;\">\n",
       "      <th></th>\n",
       "      <th>order_id</th>\n",
       "      <th>user_id</th>\n",
       "      <th>eval_set</th>\n",
       "      <th>order_number</th>\n",
       "      <th>order_day_of_week</th>\n",
       "      <th>order_hour_of_day</th>\n",
       "      <th>days_since_prior_order</th>\n",
       "      <th>product_id</th>\n",
       "      <th>add_to_cart_order</th>\n",
       "      <th>reordered</th>\n",
       "      <th>...</th>\n",
       "      <th>price_range_loc</th>\n",
       "      <th>busiest_day</th>\n",
       "      <th>busiest_days</th>\n",
       "      <th>busiest_period_of_day</th>\n",
       "      <th>max_order</th>\n",
       "      <th>loyalty_flag</th>\n",
       "      <th>average_spending</th>\n",
       "      <th>spending_flag</th>\n",
       "      <th>median_dspo</th>\n",
       "      <th>order_behavior</th>\n",
       "    </tr>\n",
       "  </thead>\n",
       "  <tbody>\n",
       "    <tr>\n",
       "      <th>0</th>\n",
       "      <td>2398795</td>\n",
       "      <td>1</td>\n",
       "      <td>prior</td>\n",
       "      <td>2</td>\n",
       "      <td>3</td>\n",
       "      <td>7</td>\n",
       "      <td>15.0</td>\n",
       "      <td>196</td>\n",
       "      <td>1</td>\n",
       "      <td>1</td>\n",
       "      <td>...</td>\n",
       "      <td>Mid-range product</td>\n",
       "      <td>Regularly busy</td>\n",
       "      <td>Slowest days</td>\n",
       "      <td>Average hours</td>\n",
       "      <td>10</td>\n",
       "      <td>New customer</td>\n",
       "      <td>6.372222</td>\n",
       "      <td>Low spender</td>\n",
       "      <td>20.5</td>\n",
       "      <td>Non-frequent customer</td>\n",
       "    </tr>\n",
       "    <tr>\n",
       "      <th>1</th>\n",
       "      <td>473747</td>\n",
       "      <td>1</td>\n",
       "      <td>prior</td>\n",
       "      <td>3</td>\n",
       "      <td>3</td>\n",
       "      <td>12</td>\n",
       "      <td>21.0</td>\n",
       "      <td>196</td>\n",
       "      <td>1</td>\n",
       "      <td>1</td>\n",
       "      <td>...</td>\n",
       "      <td>Mid-range product</td>\n",
       "      <td>Regularly busy</td>\n",
       "      <td>Slowest days</td>\n",
       "      <td>Average hours</td>\n",
       "      <td>10</td>\n",
       "      <td>New customer</td>\n",
       "      <td>6.372222</td>\n",
       "      <td>Low spender</td>\n",
       "      <td>20.5</td>\n",
       "      <td>Non-frequent customer</td>\n",
       "    </tr>\n",
       "    <tr>\n",
       "      <th>2</th>\n",
       "      <td>2254736</td>\n",
       "      <td>1</td>\n",
       "      <td>prior</td>\n",
       "      <td>4</td>\n",
       "      <td>4</td>\n",
       "      <td>7</td>\n",
       "      <td>29.0</td>\n",
       "      <td>196</td>\n",
       "      <td>1</td>\n",
       "      <td>1</td>\n",
       "      <td>...</td>\n",
       "      <td>Mid-range product</td>\n",
       "      <td>Least busy</td>\n",
       "      <td>Slowest days</td>\n",
       "      <td>Average hours</td>\n",
       "      <td>10</td>\n",
       "      <td>New customer</td>\n",
       "      <td>6.372222</td>\n",
       "      <td>Low spender</td>\n",
       "      <td>20.5</td>\n",
       "      <td>Non-frequent customer</td>\n",
       "    </tr>\n",
       "    <tr>\n",
       "      <th>3</th>\n",
       "      <td>431534</td>\n",
       "      <td>1</td>\n",
       "      <td>prior</td>\n",
       "      <td>5</td>\n",
       "      <td>4</td>\n",
       "      <td>15</td>\n",
       "      <td>28.0</td>\n",
       "      <td>196</td>\n",
       "      <td>1</td>\n",
       "      <td>1</td>\n",
       "      <td>...</td>\n",
       "      <td>Mid-range product</td>\n",
       "      <td>Least busy</td>\n",
       "      <td>Slowest days</td>\n",
       "      <td>Average hours</td>\n",
       "      <td>10</td>\n",
       "      <td>New customer</td>\n",
       "      <td>6.372222</td>\n",
       "      <td>Low spender</td>\n",
       "      <td>20.5</td>\n",
       "      <td>Non-frequent customer</td>\n",
       "    </tr>\n",
       "    <tr>\n",
       "      <th>4</th>\n",
       "      <td>3367565</td>\n",
       "      <td>1</td>\n",
       "      <td>prior</td>\n",
       "      <td>6</td>\n",
       "      <td>2</td>\n",
       "      <td>7</td>\n",
       "      <td>19.0</td>\n",
       "      <td>196</td>\n",
       "      <td>1</td>\n",
       "      <td>1</td>\n",
       "      <td>...</td>\n",
       "      <td>Mid-range product</td>\n",
       "      <td>Regularly busy</td>\n",
       "      <td>Regularly busy</td>\n",
       "      <td>Average hours</td>\n",
       "      <td>10</td>\n",
       "      <td>New customer</td>\n",
       "      <td>6.372222</td>\n",
       "      <td>Low spender</td>\n",
       "      <td>20.5</td>\n",
       "      <td>Non-frequent customer</td>\n",
       "    </tr>\n",
       "  </tbody>\n",
       "</table>\n",
       "<p>5 rows × 25 columns</p>\n",
       "</div>"
      ],
      "text/plain": [
       "   order_id  user_id eval_set  order_number  order_day_of_week  \\\n",
       "0   2398795        1    prior             2                  3   \n",
       "1    473747        1    prior             3                  3   \n",
       "2   2254736        1    prior             4                  4   \n",
       "3    431534        1    prior             5                  4   \n",
       "4   3367565        1    prior             6                  2   \n",
       "\n",
       "   order_hour_of_day  days_since_prior_order  product_id  add_to_cart_order  \\\n",
       "0                  7                    15.0         196                  1   \n",
       "1                 12                    21.0         196                  1   \n",
       "2                  7                    29.0         196                  1   \n",
       "3                 15                    28.0         196                  1   \n",
       "4                  7                    19.0         196                  1   \n",
       "\n",
       "   reordered  ...    price_range_loc     busiest_day    busiest_days  \\\n",
       "0          1  ...  Mid-range product  Regularly busy    Slowest days   \n",
       "1          1  ...  Mid-range product  Regularly busy    Slowest days   \n",
       "2          1  ...  Mid-range product      Least busy    Slowest days   \n",
       "3          1  ...  Mid-range product      Least busy    Slowest days   \n",
       "4          1  ...  Mid-range product  Regularly busy  Regularly busy   \n",
       "\n",
       "   busiest_period_of_day max_order  loyalty_flag average_spending  \\\n",
       "0          Average hours        10  New customer         6.372222   \n",
       "1          Average hours        10  New customer         6.372222   \n",
       "2          Average hours        10  New customer         6.372222   \n",
       "3          Average hours        10  New customer         6.372222   \n",
       "4          Average hours        10  New customer         6.372222   \n",
       "\n",
       "  spending_flag median_dspo         order_behavior  \n",
       "0   Low spender        20.5  Non-frequent customer  \n",
       "1   Low spender        20.5  Non-frequent customer  \n",
       "2   Low spender        20.5  Non-frequent customer  \n",
       "3   Low spender        20.5  Non-frequent customer  \n",
       "4   Low spender        20.5  Non-frequent customer  \n",
       "\n",
       "[5 rows x 25 columns]"
      ]
     },
     "execution_count": 4,
     "metadata": {},
     "output_type": "execute_result"
    }
   ],
   "source": [
    "#check the columns of the ords_prods_merge dataframe \n",
    "ords_prods_merge.head(5)"
   ]
  },
  {
   "cell_type": "code",
   "execution_count": 5,
   "id": "e2e8ed45",
   "metadata": {},
   "outputs": [
    {
     "data": {
      "text/plain": [
       "<Axes: >"
      ]
     },
     "execution_count": 5,
     "metadata": {},
     "output_type": "execute_result"
    },
    {
     "data": {
      "image/png": "[encoded data removed]",
      "text/plain": [
       "<Figure size 640x480 with 1 Axes>"
      ]
     },
     "metadata": {},
     "output_type": "display_data"
    }
   ],
   "source": [
    "#create bar plot from the order_day_of_week column \n",
    "ords_prods_merge['order_day_of_week'].value_counts().plot.bar()"
   ]
  },
  {
   "cell_type": "code",
   "execution_count": 6,
   "id": "22cb4c7c",
   "metadata": {},
   "outputs": [
    {
     "data": {
      "text/plain": [
       "0    5779087\n",
       "1    5303718\n",
       "2    3947564\n",
       "3    3600589\n",
       "4    3554531\n",
       "5    3952326\n",
       "6    4190948\n",
       "Name: order_day_of_week, dtype: int64"
      ]
     },
     "execution_count": 6,
     "metadata": {},
     "output_type": "execute_result"
    }
   ],
   "source": [
    "#Sort the bars according to index order rather than smallest to largest\n",
    "ords_prods_merge['order_day_of_week'].value_counts().sort_index()"
   ]
  },
  {
   "cell_type": "code",
   "execution_count": 7,
   "id": "0df453bb",
   "metadata": {},
   "outputs": [
    {
     "data": {
      "image/png": "[encoded data removed]",
      "text/plain": [
       "<Figure size 640x480 with 1 Axes>"
      ]
     },
     "metadata": {},
     "output_type": "display_data"
    }
   ],
   "source": [
    "#Add color to the bar chart\n",
    "bar = ords_prods_merge['order_day_of_week'].value_counts().plot.bar(color = ['purple','red','pink', 'orange','yellow','green'])"
   ]
  },
  {
   "cell_type": "code",
   "execution_count": 8,
   "id": "56af00a9",
   "metadata": {},
   "outputs": [],
   "source": [
    "#export the bar chart as a visualization\n",
    "bar.figure.savefig(os.path.join(path, '04 Analysis', 'Visualizations','bar_order_dow.png'))"
   ]
  },
  {
   "cell_type": "markdown",
   "id": "47f228ae",
   "metadata": {},
   "source": [
    "# Histogram "
   ]
  },
  {
   "cell_type": "code",
   "execution_count": 10,
   "id": "6dbdffa8",
   "metadata": {},
   "outputs": [
    {
     "data": {
      "text/plain": [
       "<Axes: ylabel='Frequency'>"
      ]
     },
     "execution_count": 10,
     "metadata": {},
     "output_type": "execute_result"
    },
    {
     "data": {
      "image/png": "[encoded data removed]",
      "text/plain": [
       "<Figure size 640x480 with 1 Axes>"
      ]
     },
     "metadata": {},
     "output_type": "display_data"
    }
   ],
   "source": [
    "#create a histogram of the prices column \n",
    "ords_prods_merge['prices'].plot.hist(bins = 25)"
   ]
  },
  {
   "cell_type": "code",
   "execution_count": 13,
   "id": "8f344906",
   "metadata": {},
   "outputs": [
    {
     "data": {
      "text/plain": [
       "count    3.032876e+07\n",
       "mean     1.197725e+01\n",
       "std      4.963730e+02\n",
       "min      1.000000e+00\n",
       "25%      4.200000e+00\n",
       "50%      7.400000e+00\n",
       "75%      1.130000e+01\n",
       "max      9.999900e+04\n",
       "Name: prices, dtype: float64"
      ]
     },
     "execution_count": 13,
     "metadata": {},
     "output_type": "execute_result"
    }
   ],
   "source": [
    "#Max price is $9,999 is pushing most of the values to the left \n",
    "ords_prods_merge['prices'].describe()"
   ]
  },
  {
   "cell_type": "code",
   "execution_count": 14,
   "id": "12b632e7",
   "metadata": {},
   "outputs": [
    {
     "data": {
      "text/plain": [
       "<Axes: xlabel='prices', ylabel='prices'>"
      ]
     },
     "execution_count": 14,
     "metadata": {},
     "output_type": "execute_result"
    },
    {
     "data": {
      "image/png": "[encoded data removed]",
      "text/plain": [
       "<Figure size 640x480 with 1 Axes>"
      ]
     },
     "metadata": {},
     "output_type": "display_data"
    }
   ],
   "source": [
    "#scatterplot of the prices column \n",
    "#Max value at 99,999\n",
    "#Another large value around 20,000\n",
    "sns.scatterplot(x = 'prices', y = 'prices',data = ords_prods_merge)"
   ]
  },
  {
   "cell_type": "code",
   "execution_count": 15,
   "id": "7e24b128",
   "metadata": {},
   "outputs": [
    {
     "data": {
      "text/html": [
       "<div>\n",
       "<style scoped>\n",
       "    .dataframe tbody tr th:only-of-type {\n",
       "        vertical-align: middle;\n",
       "    }\n",
       "\n",
       "    .dataframe tbody tr th {\n",
       "        vertical-align: top;\n",
       "    }\n",
       "\n",
       "    .dataframe thead th {\n",
       "        text-align: right;\n",
       "    }\n",
       "</style>\n",
       "<table border=\"1\" class=\"dataframe\">\n",
       "  <thead>\n",
       "    <tr style=\"text-align: right;\">\n",
       "      <th></th>\n",
       "      <th>order_id</th>\n",
       "      <th>user_id</th>\n",
       "      <th>eval_set</th>\n",
       "      <th>order_number</th>\n",
       "      <th>order_day_of_week</th>\n",
       "      <th>order_hour_of_day</th>\n",
       "      <th>days_since_prior_order</th>\n",
       "      <th>product_id</th>\n",
       "      <th>add_to_cart_order</th>\n",
       "      <th>reordered</th>\n",
       "      <th>...</th>\n",
       "      <th>price_range_loc</th>\n",
       "      <th>busiest_day</th>\n",
       "      <th>busiest_days</th>\n",
       "      <th>busiest_period_of_day</th>\n",
       "      <th>max_order</th>\n",
       "      <th>loyalty_flag</th>\n",
       "      <th>average_spending</th>\n",
       "      <th>spending_flag</th>\n",
       "      <th>median_dspo</th>\n",
       "      <th>order_behavior</th>\n",
       "    </tr>\n",
       "  </thead>\n",
       "  <tbody>\n",
       "    <tr>\n",
       "      <th>8960343</th>\n",
       "      <td>912404</td>\n",
       "      <td>17</td>\n",
       "      <td>prior</td>\n",
       "      <td>12</td>\n",
       "      <td>2</td>\n",
       "      <td>14</td>\n",
       "      <td>5.0</td>\n",
       "      <td>21553</td>\n",
       "      <td>5</td>\n",
       "      <td>0</td>\n",
       "      <td>...</td>\n",
       "      <td>High-range product</td>\n",
       "      <td>Regularly busy</td>\n",
       "      <td>Regularly busy</td>\n",
       "      <td>Busiest hours</td>\n",
       "      <td>40</td>\n",
       "      <td>Regular customer</td>\n",
       "      <td>109.670103</td>\n",
       "      <td>High spender</td>\n",
       "      <td>5.0</td>\n",
       "      <td>Frequent customer</td>\n",
       "    </tr>\n",
       "    <tr>\n",
       "      <th>8960344</th>\n",
       "      <td>603376</td>\n",
       "      <td>17</td>\n",
       "      <td>prior</td>\n",
       "      <td>22</td>\n",
       "      <td>6</td>\n",
       "      <td>16</td>\n",
       "      <td>4.0</td>\n",
       "      <td>21553</td>\n",
       "      <td>3</td>\n",
       "      <td>1</td>\n",
       "      <td>...</td>\n",
       "      <td>High-range product</td>\n",
       "      <td>Regularly busy</td>\n",
       "      <td>Regularly busy</td>\n",
       "      <td>Average hours</td>\n",
       "      <td>40</td>\n",
       "      <td>Regular customer</td>\n",
       "      <td>109.670103</td>\n",
       "      <td>High spender</td>\n",
       "      <td>5.0</td>\n",
       "      <td>Frequent customer</td>\n",
       "    </tr>\n",
       "    <tr>\n",
       "      <th>8960345</th>\n",
       "      <td>3264360</td>\n",
       "      <td>135</td>\n",
       "      <td>prior</td>\n",
       "      <td>2</td>\n",
       "      <td>2</td>\n",
       "      <td>21</td>\n",
       "      <td>13.0</td>\n",
       "      <td>21553</td>\n",
       "      <td>6</td>\n",
       "      <td>0</td>\n",
       "      <td>...</td>\n",
       "      <td>High-range product</td>\n",
       "      <td>Regularly busy</td>\n",
       "      <td>Regularly busy</td>\n",
       "      <td>Average hours</td>\n",
       "      <td>4</td>\n",
       "      <td>New customer</td>\n",
       "      <td>1250.245833</td>\n",
       "      <td>High spender</td>\n",
       "      <td>12.0</td>\n",
       "      <td>Regular customer</td>\n",
       "    </tr>\n",
       "    <tr>\n",
       "      <th>8960346</th>\n",
       "      <td>892534</td>\n",
       "      <td>135</td>\n",
       "      <td>prior</td>\n",
       "      <td>3</td>\n",
       "      <td>0</td>\n",
       "      <td>8</td>\n",
       "      <td>12.0</td>\n",
       "      <td>21553</td>\n",
       "      <td>3</td>\n",
       "      <td>1</td>\n",
       "      <td>...</td>\n",
       "      <td>High-range product</td>\n",
       "      <td>Busiest day</td>\n",
       "      <td>Busiest days</td>\n",
       "      <td>Average hours</td>\n",
       "      <td>4</td>\n",
       "      <td>New customer</td>\n",
       "      <td>1250.245833</td>\n",
       "      <td>High spender</td>\n",
       "      <td>12.0</td>\n",
       "      <td>Regular customer</td>\n",
       "    </tr>\n",
       "    <tr>\n",
       "      <th>8960347</th>\n",
       "      <td>229704</td>\n",
       "      <td>342</td>\n",
       "      <td>prior</td>\n",
       "      <td>8</td>\n",
       "      <td>1</td>\n",
       "      <td>19</td>\n",
       "      <td>30.0</td>\n",
       "      <td>21553</td>\n",
       "      <td>9</td>\n",
       "      <td>0</td>\n",
       "      <td>...</td>\n",
       "      <td>High-range product</td>\n",
       "      <td>Regularly busy</td>\n",
       "      <td>Busiest days</td>\n",
       "      <td>Average hours</td>\n",
       "      <td>16</td>\n",
       "      <td>Regular customer</td>\n",
       "      <td>120.090909</td>\n",
       "      <td>High spender</td>\n",
       "      <td>23.0</td>\n",
       "      <td>Non-frequent customer</td>\n",
       "    </tr>\n",
       "    <tr>\n",
       "      <th>...</th>\n",
       "      <td>...</td>\n",
       "      <td>...</td>\n",
       "      <td>...</td>\n",
       "      <td>...</td>\n",
       "      <td>...</td>\n",
       "      <td>...</td>\n",
       "      <td>...</td>\n",
       "      <td>...</td>\n",
       "      <td>...</td>\n",
       "      <td>...</td>\n",
       "      <td>...</td>\n",
       "      <td>...</td>\n",
       "      <td>...</td>\n",
       "      <td>...</td>\n",
       "      <td>...</td>\n",
       "      <td>...</td>\n",
       "      <td>...</td>\n",
       "      <td>...</td>\n",
       "      <td>...</td>\n",
       "      <td>...</td>\n",
       "      <td>...</td>\n",
       "    </tr>\n",
       "    <tr>\n",
       "      <th>27128304</th>\n",
       "      <td>2249946</td>\n",
       "      <td>204099</td>\n",
       "      <td>prior</td>\n",
       "      <td>29</td>\n",
       "      <td>0</td>\n",
       "      <td>8</td>\n",
       "      <td>4.0</td>\n",
       "      <td>33664</td>\n",
       "      <td>1</td>\n",
       "      <td>0</td>\n",
       "      <td>...</td>\n",
       "      <td>High-range product</td>\n",
       "      <td>Busiest day</td>\n",
       "      <td>Busiest days</td>\n",
       "      <td>Average hours</td>\n",
       "      <td>39</td>\n",
       "      <td>Regular customer</td>\n",
       "      <td>1137.802260</td>\n",
       "      <td>High spender</td>\n",
       "      <td>4.0</td>\n",
       "      <td>Frequent customer</td>\n",
       "    </tr>\n",
       "    <tr>\n",
       "      <th>27128305</th>\n",
       "      <td>2363282</td>\n",
       "      <td>204099</td>\n",
       "      <td>prior</td>\n",
       "      <td>31</td>\n",
       "      <td>0</td>\n",
       "      <td>9</td>\n",
       "      <td>2.0</td>\n",
       "      <td>33664</td>\n",
       "      <td>1</td>\n",
       "      <td>1</td>\n",
       "      <td>...</td>\n",
       "      <td>High-range product</td>\n",
       "      <td>Busiest day</td>\n",
       "      <td>Busiest days</td>\n",
       "      <td>Average hours</td>\n",
       "      <td>39</td>\n",
       "      <td>Regular customer</td>\n",
       "      <td>1137.802260</td>\n",
       "      <td>High spender</td>\n",
       "      <td>4.0</td>\n",
       "      <td>Frequent customer</td>\n",
       "    </tr>\n",
       "    <tr>\n",
       "      <th>27128306</th>\n",
       "      <td>3181945</td>\n",
       "      <td>204395</td>\n",
       "      <td>prior</td>\n",
       "      <td>13</td>\n",
       "      <td>3</td>\n",
       "      <td>15</td>\n",
       "      <td>8.0</td>\n",
       "      <td>33664</td>\n",
       "      <td>25</td>\n",
       "      <td>0</td>\n",
       "      <td>...</td>\n",
       "      <td>High-range product</td>\n",
       "      <td>Regularly busy</td>\n",
       "      <td>Slowest days</td>\n",
       "      <td>Average hours</td>\n",
       "      <td>15</td>\n",
       "      <td>Regular customer</td>\n",
       "      <td>487.075120</td>\n",
       "      <td>High spender</td>\n",
       "      <td>5.0</td>\n",
       "      <td>Frequent customer</td>\n",
       "    </tr>\n",
       "    <tr>\n",
       "      <th>27128307</th>\n",
       "      <td>2486215</td>\n",
       "      <td>205227</td>\n",
       "      <td>prior</td>\n",
       "      <td>7</td>\n",
       "      <td>3</td>\n",
       "      <td>20</td>\n",
       "      <td>4.0</td>\n",
       "      <td>33664</td>\n",
       "      <td>8</td>\n",
       "      <td>0</td>\n",
       "      <td>...</td>\n",
       "      <td>High-range product</td>\n",
       "      <td>Regularly busy</td>\n",
       "      <td>Slowest days</td>\n",
       "      <td>Average hours</td>\n",
       "      <td>12</td>\n",
       "      <td>Regular customer</td>\n",
       "      <td>1235.679755</td>\n",
       "      <td>High spender</td>\n",
       "      <td>12.0</td>\n",
       "      <td>Regular customer</td>\n",
       "    </tr>\n",
       "    <tr>\n",
       "      <th>27128308</th>\n",
       "      <td>2232716</td>\n",
       "      <td>205227</td>\n",
       "      <td>prior</td>\n",
       "      <td>10</td>\n",
       "      <td>0</td>\n",
       "      <td>11</td>\n",
       "      <td>4.0</td>\n",
       "      <td>33664</td>\n",
       "      <td>23</td>\n",
       "      <td>1</td>\n",
       "      <td>...</td>\n",
       "      <td>High-range product</td>\n",
       "      <td>Busiest day</td>\n",
       "      <td>Busiest days</td>\n",
       "      <td>Busiest hours</td>\n",
       "      <td>12</td>\n",
       "      <td>Regular customer</td>\n",
       "      <td>1235.679755</td>\n",
       "      <td>High spender</td>\n",
       "      <td>12.0</td>\n",
       "      <td>Regular customer</td>\n",
       "    </tr>\n",
       "  </tbody>\n",
       "</table>\n",
       "<p>4776 rows × 25 columns</p>\n",
       "</div>"
      ],
      "text/plain": [
       "          order_id  user_id eval_set  order_number  order_day_of_week  \\\n",
       "8960343     912404       17    prior            12                  2   \n",
       "8960344     603376       17    prior            22                  6   \n",
       "8960345    3264360      135    prior             2                  2   \n",
       "8960346     892534      135    prior             3                  0   \n",
       "8960347     229704      342    prior             8                  1   \n",
       "...            ...      ...      ...           ...                ...   \n",
       "27128304   2249946   204099    prior            29                  0   \n",
       "27128305   2363282   204099    prior            31                  0   \n",
       "27128306   3181945   204395    prior            13                  3   \n",
       "27128307   2486215   205227    prior             7                  3   \n",
       "27128308   2232716   205227    prior            10                  0   \n",
       "\n",
       "          order_hour_of_day  days_since_prior_order  product_id  \\\n",
       "8960343                  14                     5.0       21553   \n",
       "8960344                  16                     4.0       21553   \n",
       "8960345                  21                    13.0       21553   \n",
       "8960346                   8                    12.0       21553   \n",
       "8960347                  19                    30.0       21553   \n",
       "...                     ...                     ...         ...   \n",
       "27128304                  8                     4.0       33664   \n",
       "27128305                  9                     2.0       33664   \n",
       "27128306                 15                     8.0       33664   \n",
       "27128307                 20                     4.0       33664   \n",
       "27128308                 11                     4.0       33664   \n",
       "\n",
       "          add_to_cart_order  reordered  ...     price_range_loc  \\\n",
       "8960343                   5          0  ...  High-range product   \n",
       "8960344                   3          1  ...  High-range product   \n",
       "8960345                   6          0  ...  High-range product   \n",
       "8960346                   3          1  ...  High-range product   \n",
       "8960347                   9          0  ...  High-range product   \n",
       "...                     ...        ...  ...                 ...   \n",
       "27128304                  1          0  ...  High-range product   \n",
       "27128305                  1          1  ...  High-range product   \n",
       "27128306                 25          0  ...  High-range product   \n",
       "27128307                  8          0  ...  High-range product   \n",
       "27128308                 23          1  ...  High-range product   \n",
       "\n",
       "             busiest_day    busiest_days  busiest_period_of_day max_order  \\\n",
       "8960343   Regularly busy  Regularly busy          Busiest hours        40   \n",
       "8960344   Regularly busy  Regularly busy          Average hours        40   \n",
       "8960345   Regularly busy  Regularly busy          Average hours         4   \n",
       "8960346      Busiest day    Busiest days          Average hours         4   \n",
       "8960347   Regularly busy    Busiest days          Average hours        16   \n",
       "...                  ...             ...                    ...       ...   \n",
       "27128304     Busiest day    Busiest days          Average hours        39   \n",
       "27128305     Busiest day    Busiest days          Average hours        39   \n",
       "27128306  Regularly busy    Slowest days          Average hours        15   \n",
       "27128307  Regularly busy    Slowest days          Average hours        12   \n",
       "27128308     Busiest day    Busiest days          Busiest hours        12   \n",
       "\n",
       "              loyalty_flag average_spending spending_flag median_dspo  \\\n",
       "8960343   Regular customer       109.670103  High spender         5.0   \n",
       "8960344   Regular customer       109.670103  High spender         5.0   \n",
       "8960345       New customer      1250.245833  High spender        12.0   \n",
       "8960346       New customer      1250.245833  High spender        12.0   \n",
       "8960347   Regular customer       120.090909  High spender        23.0   \n",
       "...                    ...              ...           ...         ...   \n",
       "27128304  Regular customer      1137.802260  High spender         4.0   \n",
       "27128305  Regular customer      1137.802260  High spender         4.0   \n",
       "27128306  Regular customer       487.075120  High spender         5.0   \n",
       "27128307  Regular customer      1235.679755  High spender        12.0   \n",
       "27128308  Regular customer      1235.679755  High spender        12.0   \n",
       "\n",
       "                 order_behavior  \n",
       "8960343       Frequent customer  \n",
       "8960344       Frequent customer  \n",
       "8960345        Regular customer  \n",
       "8960346        Regular customer  \n",
       "8960347   Non-frequent customer  \n",
       "...                         ...  \n",
       "27128304      Frequent customer  \n",
       "27128305      Frequent customer  \n",
       "27128306      Frequent customer  \n",
       "27128307       Regular customer  \n",
       "27128308       Regular customer  \n",
       "\n",
       "[4776 rows x 25 columns]"
      ]
     },
     "execution_count": 15,
     "metadata": {},
     "output_type": "execute_result"
    }
   ],
   "source": [
    "#running a check to locate the ords larger than 100 \n",
    "ords_prods_merge.loc[ords_prods_merge['prices'] > 100]"
   ]
  },
  {
   "cell_type": "code",
   "execution_count": 16,
   "id": "5ea77f44",
   "metadata": {},
   "outputs": [],
   "source": [
    "#This code will drop outliers by marking them as NaNs \n",
    "#The command looks for values above 100 within the “prices” column and assigns them a value. In this case, that new value is np.nan.\n",
    "ords_prods_merge.loc[ords_prods_merge['prices'] >100, 'prices'] = np.nan"
   ]
  },
  {
   "cell_type": "code",
   "execution_count": 17,
   "id": "bdf84d1f",
   "metadata": {},
   "outputs": [
    {
     "data": {
      "text/plain": [
       "25.0"
      ]
     },
     "execution_count": 17,
     "metadata": {},
     "output_type": "execute_result"
    }
   ],
   "source": [
    "#Check a change by looking at the max value \n",
    "ords_prods_merge['prices'].max()"
   ]
  },
  {
   "cell_type": "code",
   "execution_count": 19,
   "id": "ed68e446",
   "metadata": {},
   "outputs": [
    {
     "data": {
      "image/png": "[encoded data removed]",
      "text/plain": [
       "<Figure size 640x480 with 1 Axes>"
      ]
     },
     "metadata": {},
     "output_type": "display_data"
    }
   ],
   "source": [
    "#histogram after cleaning \n",
    "hist_prices = ords_prods_merge['prices'].plot.hist(bins=25)"
   ]
  },
  {
   "cell_type": "code",
   "execution_count": 22,
   "id": "2eb7ce02",
   "metadata": {},
   "outputs": [
    {
     "data": {
      "image/png": "[encoded data removed]",
      "text/plain": [
       "<Figure size 640x480 with 1 Axes>"
      ]
     },
     "metadata": {},
     "output_type": "display_data"
    }
   ],
   "source": [
    "#histogram with 70 bins \n",
    "hist_prices = ords_prods_merge['prices'].plot.hist(bins=70)"
   ]
  },
  {
   "cell_type": "code",
   "execution_count": 23,
   "id": "06e99311",
   "metadata": {},
   "outputs": [],
   "source": [
    "#Export histogram of 'prices' column \n",
    "hist_prices.figure.savefig(os.path.join(path,'04 Analysis','Visualizations','prices_histogram.png'))"
   ]
  },
  {
   "cell_type": "code",
   "execution_count": 32,
   "id": "0f2b4226",
   "metadata": {},
   "outputs": [
    {
     "data": {
      "text/plain": [
       "array([False,  True, False, ...,  True, False,  True])"
      ]
     },
     "execution_count": 32,
     "metadata": {},
     "output_type": "execute_result"
    }
   ],
   "source": [
    "#np.random.seed() ensure that the the random pattern is reproducible \n",
    "#np.random.rand(len(ords_prods_merge)) will randomly assign values between 0 and 1 according to the length of ords_prods_merge \n",
    "#<= 0.7 will compare the random numbers resulting in a list of True or False\n",
    "x = np.random.seed(4)\n",
    "dev = np.random.rand(len(ords_prods_merge)) <= 0.7\n",
    "dev"
   ]
  },
  {
   "cell_type": "code",
   "execution_count": 33,
   "id": "b7e86a62",
   "metadata": {},
   "outputs": [],
   "source": [
    "#Store values that are True into big \n",
    "big = ords_prods_merge[dev]"
   ]
  },
  {
   "cell_type": "code",
   "execution_count": 34,
   "id": "a3e4f62e",
   "metadata": {},
   "outputs": [],
   "source": [
    "#Store values that are False into small \n",
    "small = ords_prods_merge[~dev]"
   ]
  },
  {
   "cell_type": "code",
   "execution_count": 35,
   "id": "11de6f3b",
   "metadata": {},
   "outputs": [
    {
     "data": {
      "text/plain": [
       "30328763"
      ]
     },
     "execution_count": 35,
     "metadata": {},
     "output_type": "execute_result"
    }
   ],
   "source": [
    "#Check the lens of the ords_prods_merge dataframe \n",
    "len(ords_prods_merge)"
   ]
  },
  {
   "cell_type": "code",
   "execution_count": 36,
   "id": "23d46f11",
   "metadata": {},
   "outputs": [
    {
     "data": {
      "text/plain": [
       "30328763"
      ]
     },
     "execution_count": 36,
     "metadata": {},
     "output_type": "execute_result"
    }
   ],
   "source": [
    "#Check the len of the big and small datasets \n",
    "len(small) + len(big)"
   ]
  },
  {
   "cell_type": "code",
   "execution_count": 38,
   "id": "28b5576b",
   "metadata": {},
   "outputs": [],
   "source": [
    "#store small dataframe into a subset containing only two columns \n",
    "df_2 = small[['order_day_of_week', 'prices']]"
   ]
  },
  {
   "cell_type": "code",
   "execution_count": 39,
   "id": "98b7c34f",
   "metadata": {},
   "outputs": [
    {
     "data": {
      "image/png": "[encoded data removed]",
      "text/plain": [
       "<Figure size 640x480 with 1 Axes>"
      ]
     },
     "metadata": {},
     "output_type": "display_data"
    }
   ],
   "source": [
    "#create line plot of df_2\n",
    "line = sns.lineplot(data = df_2, x = 'order_day_of_week', y = 'prices')"
   ]
  },
  {
   "cell_type": "code",
   "execution_count": 44,
   "id": "bf5fcadc",
   "metadata": {},
   "outputs": [],
   "source": [
    "#Export df_2 small line chart\n",
    "line.figure.savefig(os.path.join(path,'04 Analysis','Visualizations','line.png'))"
   ]
  },
  {
   "cell_type": "code",
   "execution_count": null,
   "id": "745b3966",
   "metadata": {},
   "outputs": [],
   "source": []
  }
 ],
 "metadata": {
  "kernelspec": {
   "display_name": "Python 3 (ipykernel)",
   "language": "python",
   "name": "python3"
  },
  "language_info": {
   "codemirror_mode": {
    "name": "ipython",
    "version": 3
   },
   "file_extension": ".py",
   "mimetype": "text/x-python",
   "name": "python",
   "nbconvert_exporter": "python",
   "pygments_lexer": "ipython3",
   "version": "3.10.9"
  }
 },
 "nbformat": 4,
 "nbformat_minor": 5
}
