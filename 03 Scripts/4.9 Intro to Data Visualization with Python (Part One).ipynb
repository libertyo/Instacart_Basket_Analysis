{
 "cells": [
  {
   "cell_type": "markdown",
   "id": "7c6b85ba",
   "metadata": {},
   "source": [
    "# Achievement 4, Task 9 (Part 1)"
   ]
  },
  {
   "cell_type": "code",
   "execution_count": 1,
   "id": "587e6358",
   "metadata": {},
   "outputs": [],
   "source": [
    "#import libraries \n",
    "import numpy as np \n",
    "import pandas as pd \n",
    "import os \n",
    "import matplotlib.pyplot as plt\n",
    "import seaborn as sns \n",
    "import scipy "
   ]
  },
  {
   "cell_type": "code",
   "execution_count": 2,
   "id": "325c3e63",
   "metadata": {},
   "outputs": [],
   "source": [
    "#path to instacart basket analysis \n",
    "path = r'/Users/libertyonia/Documents/Instacart Basket Analysis'"
   ]
  },
  {
   "cell_type": "code",
   "execution_count": 3,
   "id": "2e6ff72e",
   "metadata": {},
   "outputs": [],
   "source": [
    "#import ords_prods_merge dataframe \n",
    "ords_prods_merge = pd.read_pickle(os.path.join(path, '02 Data', 'Prepared Data', 'ords_prods_merge_4.8.pkl'))"
   ]
  },
  {
   "cell_type": "code",
   "execution_count": 4,
   "id": "265fb2ed",
   "metadata": {},
   "outputs": [
    {
     "data": {
      "text/html": [
       "<div>\n",
       "<style scoped>\n",
       "    .dataframe tbody tr th:only-of-type {\n",
       "        vertical-align: middle;\n",
       "    }\n",
       "\n",
       "    .dataframe tbody tr th {\n",
       "        vertical-align: top;\n",
       "    }\n",
       "\n",
       "    .dataframe thead th {\n",
       "        text-align: right;\n",
       "    }\n",
       "</style>\n",
       "<table border=\"1\" class=\"dataframe\">\n",
       "  <thead>\n",
       "    <tr style=\"text-align: right;\">\n",
       "      <th></th>\n",
       "      <th>order_id</th>\n",
       "      <th>user_id</th>\n",
       "      <th>eval_set</th>\n",
       "      <th>order_number</th>\n",
       "      <th>order_day_of_week</th>\n",
       "      <th>order_hour_of_day</th>\n",
       "      <th>days_since_prior_order</th>\n",
       "      <th>product_id</th>\n",
       "      <th>add_to_cart_order</th>\n",
       "      <th>reordered</th>\n",
       "      <th>...</th>\n",
       "      <th>price_range_loc</th>\n",
       "      <th>busiest_day</th>\n",
       "      <th>busiest_days</th>\n",
       "      <th>busiest_period_of_day</th>\n",
       "      <th>max_order</th>\n",
       "      <th>loyalty_flag</th>\n",
       "      <th>average_spending</th>\n",
       "      <th>spending_flag</th>\n",
       "      <th>median_dspo</th>\n",
       "      <th>order_behavior</th>\n",
       "    </tr>\n",
       "  </thead>\n",
       "  <tbody>\n",
       "  </tbody>\n",
       "</table>\n",
       "<p>0 rows × 25 columns</p>\n",
       "</div>"
      ],
      "text/plain": [
       "Empty DataFrame\n",
       "Columns: [order_id, user_id, eval_set, order_number, order_day_of_week, order_hour_of_day, days_since_prior_order, product_id, add_to_cart_order, reordered, product_name, aisle_id, department_id, prices, _merge, price_range_loc, busiest_day, busiest_days, busiest_period_of_day, max_order, loyalty_flag, average_spending, spending_flag, median_dspo, order_behavior]\n",
       "Index: []\n",
       "\n",
       "[0 rows x 25 columns]"
      ]
     },
     "execution_count": 4,
     "metadata": {},
     "output_type": "execute_result"
    }
   ],
   "source": [
    "#check that prices above 100 were dropped previously\n",
    "ords_prods_merge.loc[ords_prods_merge['prices'] >= 100]"
   ]
  },
  {
   "cell_type": "code",
   "execution_count": 5,
   "id": "28081937",
   "metadata": {},
   "outputs": [],
   "source": [
    "#import customers.csv\n",
    "customers_df = pd.read_csv(os.path.join(path,'02 Data','Original Data', 'customers.csv'))"
   ]
  },
  {
   "cell_type": "code",
   "execution_count": 6,
   "id": "44a91d22",
   "metadata": {},
   "outputs": [
    {
     "data": {
      "text/plain": [
       "(206209, 10)"
      ]
     },
     "execution_count": 6,
     "metadata": {},
     "output_type": "execute_result"
    }
   ],
   "source": [
    "customers_df.shape"
   ]
  },
  {
   "cell_type": "markdown",
   "id": "ce210e39",
   "metadata": {},
   "source": [
    "# Checking data \n",
    "#### Actions that were completed: \n",
    "- Check the column name using .head()\n",
    "- Check total rows and columns \n",
    "- Check descriptive statistics \n",
    "- Check gender frequency \n",
    "- Check column datatypes \n",
    "- Check if there are any N/A aka missing values \n",
    "- Check for duplicates "
   ]
  },
  {
   "cell_type": "code",
   "execution_count": 7,
   "id": "1abf2a75",
   "metadata": {},
   "outputs": [
    {
     "data": {
      "text/html": [
       "<div>\n",
       "<style scoped>\n",
       "    .dataframe tbody tr th:only-of-type {\n",
       "        vertical-align: middle;\n",
       "    }\n",
       "\n",
       "    .dataframe tbody tr th {\n",
       "        vertical-align: top;\n",
       "    }\n",
       "\n",
       "    .dataframe thead th {\n",
       "        text-align: right;\n",
       "    }\n",
       "</style>\n",
       "<table border=\"1\" class=\"dataframe\">\n",
       "  <thead>\n",
       "    <tr style=\"text-align: right;\">\n",
       "      <th></th>\n",
       "      <th>user_id</th>\n",
       "      <th>First Name</th>\n",
       "      <th>Surnam</th>\n",
       "      <th>Gender</th>\n",
       "      <th>STATE</th>\n",
       "      <th>Age</th>\n",
       "      <th>date_joined</th>\n",
       "      <th>n_dependants</th>\n",
       "      <th>fam_status</th>\n",
       "      <th>income</th>\n",
       "    </tr>\n",
       "  </thead>\n",
       "  <tbody>\n",
       "    <tr>\n",
       "      <th>0</th>\n",
       "      <td>26711</td>\n",
       "      <td>Deborah</td>\n",
       "      <td>Esquivel</td>\n",
       "      <td>Female</td>\n",
       "      <td>Missouri</td>\n",
       "      <td>48</td>\n",
       "      <td>1/1/2017</td>\n",
       "      <td>3</td>\n",
       "      <td>married</td>\n",
       "      <td>165665</td>\n",
       "    </tr>\n",
       "  </tbody>\n",
       "</table>\n",
       "</div>"
      ],
      "text/plain": [
       "   user_id First Name    Surnam  Gender     STATE  Age date_joined  \\\n",
       "0    26711    Deborah  Esquivel  Female  Missouri   48    1/1/2017   \n",
       "\n",
       "   n_dependants fam_status  income  \n",
       "0             3    married  165665  "
      ]
     },
     "execution_count": 7,
     "metadata": {},
     "output_type": "execute_result"
    }
   ],
   "source": [
    "#check the columns in the customers dataframe \n",
    "customers_df.head(1)"
   ]
  },
  {
   "cell_type": "code",
   "execution_count": 8,
   "id": "4fe89039",
   "metadata": {},
   "outputs": [
    {
     "data": {
      "text/plain": [
       "(206209, 10)"
      ]
     },
     "execution_count": 8,
     "metadata": {},
     "output_type": "execute_result"
    }
   ],
   "source": [
    "#check the columns and rows of the customers dataframe \n",
    "#there are 206209 rows and 10 columns \n",
    "customers_df.shape"
   ]
  },
  {
   "cell_type": "code",
   "execution_count": 9,
   "id": "31fb66bb",
   "metadata": {},
   "outputs": [
    {
     "data": {
      "text/html": [
       "<div>\n",
       "<style scoped>\n",
       "    .dataframe tbody tr th:only-of-type {\n",
       "        vertical-align: middle;\n",
       "    }\n",
       "\n",
       "    .dataframe tbody tr th {\n",
       "        vertical-align: top;\n",
       "    }\n",
       "\n",
       "    .dataframe thead th {\n",
       "        text-align: right;\n",
       "    }\n",
       "</style>\n",
       "<table border=\"1\" class=\"dataframe\">\n",
       "  <thead>\n",
       "    <tr style=\"text-align: right;\">\n",
       "      <th></th>\n",
       "      <th>user_id</th>\n",
       "      <th>Age</th>\n",
       "      <th>n_dependants</th>\n",
       "      <th>income</th>\n",
       "    </tr>\n",
       "  </thead>\n",
       "  <tbody>\n",
       "    <tr>\n",
       "      <th>count</th>\n",
       "      <td>206209.000000</td>\n",
       "      <td>206209.000000</td>\n",
       "      <td>206209.000000</td>\n",
       "      <td>206209.000000</td>\n",
       "    </tr>\n",
       "    <tr>\n",
       "      <th>mean</th>\n",
       "      <td>103105.000000</td>\n",
       "      <td>49.501646</td>\n",
       "      <td>1.499823</td>\n",
       "      <td>94632.852548</td>\n",
       "    </tr>\n",
       "    <tr>\n",
       "      <th>std</th>\n",
       "      <td>59527.555167</td>\n",
       "      <td>18.480962</td>\n",
       "      <td>1.118433</td>\n",
       "      <td>42473.786988</td>\n",
       "    </tr>\n",
       "    <tr>\n",
       "      <th>min</th>\n",
       "      <td>1.000000</td>\n",
       "      <td>18.000000</td>\n",
       "      <td>0.000000</td>\n",
       "      <td>25903.000000</td>\n",
       "    </tr>\n",
       "    <tr>\n",
       "      <th>25%</th>\n",
       "      <td>51553.000000</td>\n",
       "      <td>33.000000</td>\n",
       "      <td>0.000000</td>\n",
       "      <td>59874.000000</td>\n",
       "    </tr>\n",
       "    <tr>\n",
       "      <th>50%</th>\n",
       "      <td>103105.000000</td>\n",
       "      <td>49.000000</td>\n",
       "      <td>1.000000</td>\n",
       "      <td>93547.000000</td>\n",
       "    </tr>\n",
       "    <tr>\n",
       "      <th>75%</th>\n",
       "      <td>154657.000000</td>\n",
       "      <td>66.000000</td>\n",
       "      <td>3.000000</td>\n",
       "      <td>124244.000000</td>\n",
       "    </tr>\n",
       "    <tr>\n",
       "      <th>max</th>\n",
       "      <td>206209.000000</td>\n",
       "      <td>81.000000</td>\n",
       "      <td>3.000000</td>\n",
       "      <td>593901.000000</td>\n",
       "    </tr>\n",
       "  </tbody>\n",
       "</table>\n",
       "</div>"
      ],
      "text/plain": [
       "             user_id            Age   n_dependants         income\n",
       "count  206209.000000  206209.000000  206209.000000  206209.000000\n",
       "mean   103105.000000      49.501646       1.499823   94632.852548\n",
       "std     59527.555167      18.480962       1.118433   42473.786988\n",
       "min         1.000000      18.000000       0.000000   25903.000000\n",
       "25%     51553.000000      33.000000       0.000000   59874.000000\n",
       "50%    103105.000000      49.000000       1.000000   93547.000000\n",
       "75%    154657.000000      66.000000       3.000000  124244.000000\n",
       "max    206209.000000      81.000000       3.000000  593901.000000"
      ]
     },
     "execution_count": 9,
     "metadata": {},
     "output_type": "execute_result"
    }
   ],
   "source": [
    "#check the descriptive statistics of the customers dataframe \n",
    "customers_df.describe()"
   ]
  },
  {
   "cell_type": "code",
   "execution_count": 10,
   "id": "f7eb2e78",
   "metadata": {},
   "outputs": [
    {
     "data": {
      "text/plain": [
       "Male      104067\n",
       "Female    102142\n",
       "Name: Gender, dtype: int64"
      ]
     },
     "execution_count": 10,
     "metadata": {},
     "output_type": "execute_result"
    }
   ],
   "source": [
    "#check the frequency by gender \n",
    "customers_df['Gender'].value_counts(dropna = False)"
   ]
  },
  {
   "cell_type": "code",
   "execution_count": 11,
   "id": "70a983a8",
   "metadata": {},
   "outputs": [
    {
     "data": {
      "text/plain": [
       "user_id          int64\n",
       "First Name      object\n",
       "Surnam          object\n",
       "Gender          object\n",
       "STATE           object\n",
       "Age              int64\n",
       "date_joined     object\n",
       "n_dependants     int64\n",
       "fam_status      object\n",
       "income           int64\n",
       "dtype: object"
      ]
     },
     "execution_count": 11,
     "metadata": {},
     "output_type": "execute_result"
    }
   ],
   "source": [
    "#check the datatypes of each column in the customers dataframe \n",
    "customers_df.dtypes"
   ]
  },
  {
   "cell_type": "code",
   "execution_count": 12,
   "id": "0b9cd06d",
   "metadata": {},
   "outputs": [
    {
     "data": {
      "text/plain": [
       "user_id             0\n",
       "First Name      11259\n",
       "Surnam              0\n",
       "Gender              0\n",
       "STATE               0\n",
       "Age                 0\n",
       "date_joined         0\n",
       "n_dependants        0\n",
       "fam_status          0\n",
       "income              0\n",
       "dtype: int64"
      ]
     },
     "execution_count": 12,
     "metadata": {},
     "output_type": "execute_result"
    }
   ],
   "source": [
    "#check if there are an N/A values \n",
    "customers_df.isnull().sum()"
   ]
  },
  {
   "cell_type": "code",
   "execution_count": 13,
   "id": "944f2278",
   "metadata": {},
   "outputs": [
    {
     "data": {
      "text/html": [
       "<div>\n",
       "<style scoped>\n",
       "    .dataframe tbody tr th:only-of-type {\n",
       "        vertical-align: middle;\n",
       "    }\n",
       "\n",
       "    .dataframe tbody tr th {\n",
       "        vertical-align: top;\n",
       "    }\n",
       "\n",
       "    .dataframe thead th {\n",
       "        text-align: right;\n",
       "    }\n",
       "</style>\n",
       "<table border=\"1\" class=\"dataframe\">\n",
       "  <thead>\n",
       "    <tr style=\"text-align: right;\">\n",
       "      <th></th>\n",
       "      <th>user_id</th>\n",
       "      <th>First Name</th>\n",
       "      <th>Surnam</th>\n",
       "      <th>Gender</th>\n",
       "      <th>STATE</th>\n",
       "      <th>Age</th>\n",
       "      <th>date_joined</th>\n",
       "      <th>n_dependants</th>\n",
       "      <th>fam_status</th>\n",
       "      <th>income</th>\n",
       "    </tr>\n",
       "  </thead>\n",
       "  <tbody>\n",
       "  </tbody>\n",
       "</table>\n",
       "</div>"
      ],
      "text/plain": [
       "Empty DataFrame\n",
       "Columns: [user_id, First Name, Surnam, Gender, STATE, Age, date_joined, n_dependants, fam_status, income]\n",
       "Index: []"
      ]
     },
     "execution_count": 13,
     "metadata": {},
     "output_type": "execute_result"
    }
   ],
   "source": [
    "#Check if there are any duplicates\n",
    "customers_df_dups = customers_df[customers_df.duplicated()]\n",
    "customers_df_dups"
   ]
  },
  {
   "cell_type": "code",
   "execution_count": 14,
   "id": "47bcbac2",
   "metadata": {},
   "outputs": [],
   "source": [
    "#Check if there are any columns with mixed datatypes \n",
    "for col in customers_df.columns.tolist():\n",
    "    x = (customers_df[[col]].applymap(type) != customers_df[[col]].iloc[0].apply(type)).any(axis = 1)\n",
    "if len(customers_df[x]) > 0:\n",
    "    print(col)"
   ]
  },
  {
   "cell_type": "markdown",
   "id": "2ec588ea",
   "metadata": {},
   "source": [
    "# Question 4 & 5\n",
    "Q4. Wrangle the data so that it follows consistent logic; for example, rename columns with illogical names and drop columns that don’t add anything to your analysis.\n",
    "\n",
    "Q5. Complete the fundamental data quality and consistency checks you’ve learned throughout this Achievement; for example, check for and address missing values and duplicates, and convert any mixed-type data."
   ]
  },
  {
   "cell_type": "code",
   "execution_count": 15,
   "id": "7ef198a7",
   "metadata": {},
   "outputs": [],
   "source": [
    "#Rename column Surnam to Surname \n",
    "customers_df.rename(columns = {'Surnam':'Surname'}, inplace = True)"
   ]
  },
  {
   "cell_type": "markdown",
   "id": "84c7e109",
   "metadata": {},
   "source": [
    "#### Rename columns?\n",
    "I renamed the Surnam column to Surname\n",
    "\n",
    "#### Drop Columns? \n",
    "I didn't drop any columns, because I believe all columns may be relevant to future data analysis. \n",
    "\n",
    "#### Drop N/A values? \n",
    "There are 11,259 N/A values in the First Name column, but I decided not to drop these values since they will have unique customer ids to help differentiate similar surnames\n",
    "\n",
    "#### Change any datatypes? Are there any mixed datatypes?\n",
    "I didn't change any data types, because they were consistent with what was expected per column. Also, there are no mixed datatypes. \n",
    "\n",
    "#### Drop duplicates?\n",
    "I didn't drop any duplicates, because there were no duplicates. "
   ]
  },
  {
   "cell_type": "code",
   "execution_count": 16,
   "id": "5ad9756c",
   "metadata": {},
   "outputs": [
    {
     "data": {
      "text/plain": [
       "(206209, 10)"
      ]
     },
     "execution_count": 16,
     "metadata": {},
     "output_type": "execute_result"
    }
   ],
   "source": [
    "customers_df.shape"
   ]
  },
  {
   "cell_type": "markdown",
   "id": "c0b58673",
   "metadata": {},
   "source": [
    "# Question 6 \n",
    "Combine your customer data with the rest of your prepared Instacart data. (Hint: Make sure the key columns are the same data type!)"
   ]
  },
  {
   "cell_type": "code",
   "execution_count": 17,
   "id": "d2f8ffa0",
   "metadata": {},
   "outputs": [],
   "source": [
    "#drop _merge column from the ords_prods_merge dataframe\n",
    "ords_prods_merge = ords_prods_merge.drop(columns = ['_merge'])"
   ]
  },
  {
   "cell_type": "code",
   "execution_count": 18,
   "id": "39e30cd3",
   "metadata": {},
   "outputs": [
    {
     "data": {
      "text/plain": [
       "['order_id',\n",
       " 'user_id',\n",
       " 'eval_set',\n",
       " 'order_number',\n",
       " 'order_day_of_week',\n",
       " 'order_hour_of_day',\n",
       " 'days_since_prior_order',\n",
       " 'product_id',\n",
       " 'add_to_cart_order',\n",
       " 'reordered',\n",
       " 'product_name',\n",
       " 'aisle_id',\n",
       " 'department_id',\n",
       " 'prices',\n",
       " 'price_range_loc',\n",
       " 'busiest_day',\n",
       " 'busiest_days',\n",
       " 'busiest_period_of_day',\n",
       " 'max_order',\n",
       " 'loyalty_flag',\n",
       " 'average_spending',\n",
       " 'spending_flag',\n",
       " 'median_dspo',\n",
       " 'order_behavior']"
      ]
     },
     "execution_count": 18,
     "metadata": {},
     "output_type": "execute_result"
    }
   ],
   "source": [
    "#check columns in the ords_prods_merge dataframe \n",
    "ords_prods_merge.columns.tolist()"
   ]
  },
  {
   "cell_type": "code",
   "execution_count": 19,
   "id": "359d5459",
   "metadata": {},
   "outputs": [
    {
     "data": {
      "text/plain": [
       "['user_id',\n",
       " 'First Name',\n",
       " 'Surname',\n",
       " 'Gender',\n",
       " 'STATE',\n",
       " 'Age',\n",
       " 'date_joined',\n",
       " 'n_dependants',\n",
       " 'fam_status',\n",
       " 'income']"
      ]
     },
     "execution_count": 19,
     "metadata": {},
     "output_type": "execute_result"
    }
   ],
   "source": [
    "#check columns in customers dataframe \n",
    "customers_df.columns.tolist()"
   ]
  },
  {
   "cell_type": "code",
   "execution_count": 20,
   "id": "e6228a24",
   "metadata": {},
   "outputs": [],
   "source": [
    "#merge ords_prods_merge dataframe with customers dataframe using 'user_id'\n",
    "ords_prods_cust = ords_prods_merge.merge(customers_df, on = 'user_id', indicator = True)"
   ]
  },
  {
   "cell_type": "code",
   "execution_count": 21,
   "id": "f9675e3d",
   "metadata": {},
   "outputs": [
    {
     "data": {
      "text/plain": [
       "both          30328763\n",
       "left_only            0\n",
       "right_only           0\n",
       "Name: _merge, dtype: int64"
      ]
     },
     "execution_count": 21,
     "metadata": {},
     "output_type": "execute_result"
    }
   ],
   "source": [
    "#check value counts of _merge column\n",
    "ords_prods_cust['_merge'].value_counts(dropna = False)"
   ]
  },
  {
   "cell_type": "markdown",
   "id": "9cacb89f",
   "metadata": {},
   "source": [
    "# Question 8 \n",
    "Export this new dataframe as a pickle file so you can continue to use it in the second part of this task."
   ]
  },
  {
   "cell_type": "code",
   "execution_count": 22,
   "id": "68d11e74",
   "metadata": {},
   "outputs": [
    {
     "data": {
      "text/plain": [
       "['order_id',\n",
       " 'user_id',\n",
       " 'eval_set',\n",
       " 'order_number',\n",
       " 'order_day_of_week',\n",
       " 'order_hour_of_day',\n",
       " 'days_since_prior_order',\n",
       " 'product_id',\n",
       " 'add_to_cart_order',\n",
       " 'reordered',\n",
       " 'product_name',\n",
       " 'aisle_id',\n",
       " 'department_id',\n",
       " 'prices',\n",
       " 'price_range_loc',\n",
       " 'busiest_day',\n",
       " 'busiest_days',\n",
       " 'busiest_period_of_day',\n",
       " 'max_order',\n",
       " 'loyalty_flag',\n",
       " 'average_spending',\n",
       " 'spending_flag',\n",
       " 'median_dspo',\n",
       " 'order_behavior',\n",
       " 'First Name',\n",
       " 'Surname',\n",
       " 'Gender',\n",
       " 'STATE',\n",
       " 'Age',\n",
       " 'date_joined',\n",
       " 'n_dependants',\n",
       " 'fam_status',\n",
       " 'income',\n",
       " '_merge']"
      ]
     },
     "execution_count": 22,
     "metadata": {},
     "output_type": "execute_result"
    }
   ],
   "source": [
    "#check new dataframe columns \n",
    "ords_prods_cust.columns.tolist()"
   ]
  },
  {
   "cell_type": "code",
   "execution_count": 23,
   "id": "1498552c",
   "metadata": {},
   "outputs": [
    {
     "data": {
      "text/plain": [
       "(206209, 10)"
      ]
     },
     "execution_count": 23,
     "metadata": {},
     "output_type": "execute_result"
    }
   ],
   "source": [
    "#Check the columns and rows of the customers dataframe \n",
    "customers_df.shape"
   ]
  },
  {
   "cell_type": "code",
   "execution_count": 24,
   "id": "9d1043f2",
   "metadata": {},
   "outputs": [
    {
     "data": {
      "text/plain": [
       "(30328763, 24)"
      ]
     },
     "execution_count": 24,
     "metadata": {},
     "output_type": "execute_result"
    }
   ],
   "source": [
    "#Check the columns and rows of the ords_prods_merge dataframe \n",
    "ords_prods_merge.shape"
   ]
  },
  {
   "cell_type": "code",
   "execution_count": 25,
   "id": "cd732a80",
   "metadata": {},
   "outputs": [
    {
     "data": {
      "text/plain": [
       "(30328763, 34)"
      ]
     },
     "execution_count": 25,
     "metadata": {},
     "output_type": "execute_result"
    }
   ],
   "source": [
    "#check columns and rows of new ords_prods_cust dataframe \n",
    "ords_prods_cust.shape"
   ]
  },
  {
   "cell_type": "code",
   "execution_count": 26,
   "id": "8f58b835",
   "metadata": {},
   "outputs": [],
   "source": [
    "#Export the ords_prods_cust dataframe as a pickle \n",
    "ords_prods_cust.to_pickle(os.path.join(path,'02 Data','Prepared Data','ords_prods_cust_4-9.pkl'))"
   ]
  },
  {
   "cell_type": "code",
   "execution_count": null,
   "id": "b730f40b",
   "metadata": {},
   "outputs": [],
   "source": []
  }
 ],
 "metadata": {
  "kernelspec": {
   "display_name": "Python 3 (ipykernel)",
   "language": "python",
   "name": "python3"
  },
  "language_info": {
   "codemirror_mode": {
    "name": "ipython",
    "version": 3
   },
   "file_extension": ".py",
   "mimetype": "text/x-python",
   "name": "python",
   "nbconvert_exporter": "python",
   "pygments_lexer": "ipython3",
   "version": "3.10.9"
  }
 },
 "nbformat": 4,
 "nbformat_minor": 5
}
