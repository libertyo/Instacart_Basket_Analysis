{
 "cells": [
  {
   "cell_type": "markdown",
   "id": "ac6503b1",
   "metadata": {},
   "source": [
    "# Importing numpy and pandas libraries "
   ]
  },
  {
   "cell_type": "code",
   "execution_count": 1,
   "id": "0c13c6eb",
   "metadata": {},
   "outputs": [],
   "source": [
    "#Import libraries\n",
    "import pandas as pd \n",
    "import numpy as np \n",
    "import os"
   ]
  },
  {
   "cell_type": "markdown",
   "id": "628d92b8",
   "metadata": {},
   "source": [
    "# Working with Python data types "
   ]
  },
  {
   "cell_type": "code",
   "execution_count": 2,
   "id": "8c7a4dc4",
   "metadata": {},
   "outputs": [
    {
     "name": "stdout",
     "output_type": "stream",
     "text": [
      "100\n"
     ]
    }
   ],
   "source": [
    "x = 100 + 0 \n",
    "print(x)"
   ]
  },
  {
   "cell_type": "code",
   "execution_count": 3,
   "id": "d86580d2",
   "metadata": {},
   "outputs": [
    {
     "name": "stdout",
     "output_type": "stream",
     "text": [
      "100\n"
     ]
    }
   ],
   "source": [
    "y = 101 - 1 \n",
    "print(y)"
   ]
  },
  {
   "cell_type": "code",
   "execution_count": 4,
   "id": "4e74da9c",
   "metadata": {},
   "outputs": [
    {
     "name": "stdout",
     "output_type": "stream",
     "text": [
      "100\n"
     ]
    }
   ],
   "source": [
    "z = x/y + 99\n",
    "z = int(z)\n",
    "print(z)"
   ]
  },
  {
   "cell_type": "code",
   "execution_count": 5,
   "id": "62a04059",
   "metadata": {},
   "outputs": [
    {
     "name": "stdout",
     "output_type": "stream",
     "text": [
      "0.4666666666666667\n"
     ]
    }
   ],
   "source": [
    "a = 3.5 \n",
    "b = 7.5 \n",
    "c = 3.5/7.5\n",
    "print(c)"
   ]
  },
  {
   "cell_type": "code",
   "execution_count": 6,
   "id": "7fdd920c",
   "metadata": {},
   "outputs": [
    {
     "name": "stdout",
     "output_type": "stream",
     "text": [
      "mailman\n"
     ]
    }
   ],
   "source": [
    "mailman = 'mail' + 'man'\n",
    "print(mailman)"
   ]
  },
  {
   "cell_type": "code",
   "execution_count": 7,
   "id": "e190fbd2",
   "metadata": {},
   "outputs": [
    {
     "name": "stdout",
     "output_type": "stream",
     "text": [
      "Give me the formuloli!\n"
     ]
    }
   ],
   "source": [
    "plankton = 'Give' + ' ' + 'me' + ' ' + 'the' + ' ' + 'formuloli!'\n",
    "print(plankton)"
   ]
  },
  {
   "cell_type": "code",
   "execution_count": 8,
   "id": "820fe4c7",
   "metadata": {},
   "outputs": [
    {
     "name": "stdout",
     "output_type": "stream",
     "text": [
      "No this is Patrick.\n"
     ]
    }
   ],
   "source": [
    "patrick = \"No\" + \" this is\" + \" Patrick.\"\n",
    "print(patrick)"
   ]
  },
  {
   "cell_type": "code",
   "execution_count": 9,
   "id": "f790ca5a",
   "metadata": {},
   "outputs": [
    {
     "name": "stdout",
     "output_type": "stream",
     "text": [
      "I'm ready I'm ready I'm ready I'm ready I'm ready I'm ready I'm ready I'm ready I'm ready I'm ready I'm ready I'm ready I'm ready I'm ready I'm ready I'm ready I'm ready I'm ready I'm ready I'm ready I'm ready I'm ready I'm ready I'm ready I'm ready I'm ready I'm ready I'm ready I'm ready I'm ready I'm ready I'm ready I'm ready I'm ready I'm ready I'm ready I'm ready I'm ready I'm ready I'm ready I'm ready I'm ready I'm ready I'm ready I'm ready I'm ready I'm ready I'm ready I'm ready I'm ready I'm ready I'm ready I'm ready I'm ready I'm ready I'm ready I'm ready I'm ready I'm ready I'm ready I'm ready I'm ready I'm ready I'm ready I'm ready I'm ready I'm ready I'm ready I'm ready I'm ready I'm ready I'm ready I'm ready I'm ready I'm ready I'm ready I'm ready I'm ready I'm ready I'm ready I'm ready I'm ready I'm ready I'm ready I'm ready I'm ready I'm ready I'm ready I'm ready I'm ready I'm ready I'm ready I'm ready I'm ready I'm ready I'm ready I'm ready I'm ready I'm ready I'm ready \n"
     ]
    }
   ],
   "source": [
    "#Bonus \n",
    "spongebob = \"I'm ready \" * 100\n",
    "print(spongebob)"
   ]
  }
 ],
 "metadata": {
  "kernelspec": {
   "display_name": "Python 3 (ipykernel)",
   "language": "python",
   "name": "python3"
  },
  "language_info": {
   "codemirror_mode": {
    "name": "ipython",
    "version": 3
   },
   "file_extension": ".py",
   "mimetype": "text/x-python",
   "name": "python",
   "nbconvert_exporter": "python",
   "pygments_lexer": "ipython3",
   "version": "3.10.9"
  }
 },
 "nbformat": 4,
 "nbformat_minor": 5
}
